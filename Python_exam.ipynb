{
 "cells": [
  {
   "cell_type": "markdown",
   "id": "695d8c85",
   "metadata": {},
   "source": [
    "1. Take values of the length & breadth of a rectangle from user input and check if it is square or not.\n",
    "\n"
   ]
  },
  {
   "cell_type": "code",
   "execution_count": 1,
   "id": "9f9edfaf",
   "metadata": {},
   "outputs": [
    {
     "name": "stdout",
     "output_type": "stream",
     "text": [
      "Enter the length5\n",
      "Enter the breadth5\n",
      "its square rectangle\n"
     ]
    }
   ],
   "source": [
    "length=int(input(\"Enter the length\"))\n",
    "breadth=int(input(\"Enter the breadth\"))\n",
    "if length==breadth:\n",
    "    print(\"its square rectangle\")\n",
    "else:\n",
    "    print(\"its not square rectangle\")\n",
    "\n"
   ]
  },
  {
   "cell_type": "markdown",
   "id": "39265d1e",
   "metadata": {},
   "source": [
    "2. Take three integer values from the user and print the greatest among them.\n"
   ]
  },
  {
   "cell_type": "code",
   "execution_count": 2,
   "id": "b7a377d2",
   "metadata": {},
   "outputs": [
    {
     "name": "stdout",
     "output_type": "stream",
     "text": [
      "enter your First Number\n",
      "15\n",
      "enter your second Number\n",
      "20\n",
      "enter your Third Number\n",
      "25\n",
      "trirdnumber is the greatest number among them\n"
     ]
    }
   ],
   "source": [
    "firstnumber=int(input(\"enter your First Number\\n\"))\n",
    "secondnumber=int(input(\"enter your second Number\\n\"))\n",
    "trirdnumber=int(input(\"enter your Third Number\\n\"))\n",
    "\n",
    "if firstnumber>secondnumber and firstnumber>trirdnumber:\n",
    "    print(\"first number is the greatest number among them\")\n",
    "    \n",
    "elif secondnumber>firstnumber and secondnumber>trirdnumber:\n",
    "    print(\"second number is the greatest number among them\") \n",
    "    \n",
    "else:\n",
    "    print(\"trirdnumber is the greatest number among them\")    "
   ]
  },
  {
   "cell_type": "markdown",
   "id": "a582bcd9",
   "metadata": {},
   "source": [
    "3. A student will not be allowed to sit in an exam if his/her attendance is less than 75%.\n",
    "\n"
   ]
  },
  {
   "cell_type": "code",
   "execution_count": 3,
   "id": "bd431ff0",
   "metadata": {},
   "outputs": [
    {
     "name": "stdout",
     "output_type": "stream",
     "text": [
      "enter your attendance88\n",
      "your are allow to sit in the exam \n"
     ]
    }
   ],
   "source": [
    "attendance=int(input(\"enter your attendance\"))\n",
    "if attendance<(75/100):\n",
    "    print (\"you are not allow to sit in the exam\")\n",
    "else : print (\"your are allow to sit in the exam \")   "
   ]
  },
  {
   "cell_type": "markdown",
   "id": "f166ad93",
   "metadata": {},
   "source": [
    "4. A school has the following rules for the grading system:\n",
    "Below 25 – F, 25 to 44 – E, 45 to 49 – D, 50 to 59 – C, 60 to 79 – B, 80 to 89 - A, Above 90 - A+\n",
    "Now, Ask the user to enter marks and print the corresponding grade\n",
    "\n"
   ]
  },
  {
   "cell_type": "code",
   "execution_count": 4,
   "id": "dc5e72cb",
   "metadata": {},
   "outputs": [
    {
     "name": "stdout",
     "output_type": "stream",
     "text": [
      "Enter your Number\n",
      "89\n",
      "Your grade is A\n",
      "\n"
     ]
    }
   ],
   "source": [
    "grade=int(input(\"Enter your Number\\n\"))\n",
    "\n",
    "if grade<25:\n",
    "    print(\"Your grade is F\\n\")\n",
    "    \n",
    "elif grade>=25 and grade<=44:\n",
    "    print(\"Your grade is E\\n\") \n",
    "    \n",
    "elif grade>=45 and grade<=49:\n",
    "    print(\"Your grade is D\\n\")\n",
    "    \n",
    "elif grade>=50 and grade<=59:\n",
    "    print(\"Your grade is C\\n\")    \n",
    "    \n",
    "elif grade>=60 and grade<=79:\n",
    "    print(\"Your grade is B\\n\")\n",
    "    \n",
    "elif grade>=80 and grade<=89:\n",
    "    print(\"Your grade is A\\n\")   \n",
    "    \n",
    "else:print(\"Your grade is A+\\n\")     "
   ]
  },
  {
   "cell_type": "markdown",
   "id": "2ed92d78",
   "metadata": {},
   "source": [
    "5. Print the following pattern using for and while loop.\n",
    "1 2 3 4 5 6 7\n",
    "1 2 3 4 5 6\n",
    "1 2 3 4 5\n",
    "1 2 3 4"
   ]
  },
  {
   "cell_type": "code",
   "execution_count": 5,
   "id": "808610b3",
   "metadata": {},
   "outputs": [
    {
     "name": "stdout",
     "output_type": "stream",
     "text": [
      "1 2 3 4 5 6 7 \n",
      "1 2 3 4 5 6 \n",
      "1 2 3 4 5 \n",
      "1 2 3 4 \n"
     ]
    }
   ],
   "source": [
    "n=8\n",
    "for i in range (1,5):\n",
    "    for j in range(1,n):\n",
    "        print(j,end=\" \")\n",
    "    print()\n",
    "    n-=1\n",
    "    \n",
    "      \n",
    "        "
   ]
  },
  {
   "cell_type": "code",
   "execution_count": 52,
   "id": "9f0b6b0b",
   "metadata": {},
   "outputs": [
    {
     "name": "stdout",
     "output_type": "stream",
     "text": [
      "1 2 3 4 5 6 7 \n",
      "1 2 3 4 5 6 \n",
      "1 2 3 4 5 \n",
      "1 2 3 4 \n"
     ]
    }
   ],
   "source": [
    "n = 1\n",
    " \n",
    "i = 7\n",
    "while i >= 4 :\n",
    "    j = n\n",
    "    while j <= i:\n",
    "        print(j, end = \" \")\n",
    "        j += 1\n",
    "    print()\n",
    "    i -= 1"
   ]
  },
  {
   "cell_type": "markdown",
   "id": "21658b5f",
   "metadata": {},
   "source": [
    "6. Display numbers from -100 to -10 using for loop.\n"
   ]
  },
  {
   "cell_type": "code",
   "execution_count": 6,
   "id": "a73a2c46",
   "metadata": {},
   "outputs": [
    {
     "name": "stdout",
     "output_type": "stream",
     "text": [
      "-100 -99 -98 -97 -96 -95 -94 -93 -92 -91 -90 -89 -88 -87 -86 -85 -84 -83 -82 -81 -80 -79 -78 -77 -76 -75 -74 -73 -72 -71 -70 -69 -68 -67 -66 -65 -64 -63 -62 -61 -60 -59 -58 -57 -56 -55 -54 -53 -52 -51 -50 -49 -48 -47 -46 -45 -44 -43 -42 -41 -40 -39 -38 -37 -36 -35 -34 -33 -32 -31 -30 -29 -28 -27 -26 -25 -24 -23 -22 -21 -20 -19 -18 -17 -16 -15 -14 -13 -12 -11 -10 "
     ]
    }
   ],
   "source": [
    "n=-100\n",
    "for i in range(0,91):\n",
    "    print(n,end=\" \")\n",
    "    n+=1    "
   ]
  },
  {
   "cell_type": "markdown",
   "id": "e7f585a9",
   "metadata": {},
   "source": [
    "7. Write a program to sum all prime numbers within a range of 10 to 1000.\n"
   ]
  },
  {
   "cell_type": "code",
   "execution_count": 1,
   "id": "9f69b996",
   "metadata": {},
   "outputs": [
    {
     "name": "stdout",
     "output_type": "stream",
     "text": [
      "249975\n"
     ]
    }
   ],
   "source": [
    "number=0\n",
    "for i in range(10,1001):\n",
    "    if (i%2==1):\n",
    "        number+=i\n",
    "print(number)\n",
    "        \n",
    "        "
   ]
  },
  {
   "cell_type": "markdown",
   "id": "e9903bbf",
   "metadata": {},
   "source": [
    "8. Find the factorial of an n! (Hint, n=7: 7*6*5*4*3*2*1).\n"
   ]
  },
  {
   "cell_type": "code",
   "execution_count": 56,
   "id": "cca741ae",
   "metadata": {},
   "outputs": [
    {
     "name": "stdout",
     "output_type": "stream",
     "text": [
      "enter your factorial number!\n",
      "7\n",
      "7654321"
     ]
    }
   ],
   "source": [
    "n=int(input(\"enter your factorial number!\\n\"))\n",
    "\n",
    "fact = 1\n",
    "for i in range(n,0,-1): \n",
    "    print(i,end=\"\")\n",
    "\n"
   ]
  },
  {
   "cell_type": "markdown",
   "id": "7d347bb0",
   "metadata": {},
   "source": [
    "9. Reverse a given integer number 27956240710\n"
   ]
  },
  {
   "cell_type": "code",
   "execution_count": 9,
   "id": "60908d1a",
   "metadata": {},
   "outputs": [
    {
     "name": "stdout",
     "output_type": "stream",
     "text": [
      "reverse number: 1704265972\n"
     ]
    }
   ],
   "source": [
    "number=27956240710\n",
    "reverse=0\n",
    "while number!=0:\n",
    "    digit=number%10\n",
    "    reverse=reverse*10+digit\n",
    "    number//=10\n",
    "print(\"reverse number:\", reverse)    "
   ]
  },
  {
   "cell_type": "code",
   "execution_count": 60,
   "id": "4e547698",
   "metadata": {},
   "outputs": [
    {
     "name": "stdout",
     "output_type": "stream",
     "text": [
      "01704265972\n"
     ]
    }
   ],
   "source": [
    "number=27956240710\n",
    "print(str(number)[::-1])\n",
    "\n"
   ]
  },
  {
   "cell_type": "markdown",
   "id": "1ae3d16d",
   "metadata": {},
   "source": [
    "10. Print the following pattern using for and while loop.\n",
    "\n",
    "###\n",
    "\n",
    "####\n",
    "\n",
    "###\n",
    "\n",
    "##"
   ]
  },
  {
   "cell_type": "code",
   "execution_count": 11,
   "id": "1bd0f6fc",
   "metadata": {},
   "outputs": [
    {
     "name": "stdout",
     "output_type": "stream",
     "text": [
      "# # # \n",
      "# # # # \n",
      "# # # \n",
      "# # \n"
     ]
    }
   ],
   "source": [
    "rows = 5\n",
    "for i in range(3, rows):\n",
    "    for j in range(i, 0, -1):\n",
    "        print('#', end=' ')\n",
    "    print(\"\")\n",
    "rows = rows-2\n",
    "for i in range(rows,1,-1):\n",
    "    for j in range(i, 0, -1):\n",
    "        print('#', end=' ')\n",
    "    print(\"\")    \n",
    "        "
   ]
  },
  {
   "cell_type": "markdown",
   "id": "e4222a6b",
   "metadata": {},
   "source": [
    "11. Display the Fibonacci series of 15 elements using the for and while loop.\n"
   ]
  },
  {
   "cell_type": "code",
   "execution_count": 12,
   "id": "1d21a157",
   "metadata": {},
   "outputs": [
    {
     "name": "stdout",
     "output_type": "stream",
     "text": [
      "The Fibonacci seris is:\n",
      "\n",
      "0 , 1 1,2,3,5,8,13,21,34,55,89,144,233,377,"
     ]
    }
   ],
   "source": [
    "seris=15\n",
    "n1=0\n",
    "n2=1\n",
    "print('The Fibonacci seris is:\\n')\n",
    "print(n1,',',n2,end=\" \")\n",
    "for i in range(2,seris):\n",
    "    next=n1+n2\n",
    "    print(next,end=',')\n",
    "    n1=n2\n",
    "    n2=next"
   ]
  },
  {
   "cell_type": "markdown",
   "id": "33f2c05b",
   "metadata": {},
   "source": [
    "12. Remove 2 and add 3 to the list and replace True with False.\n",
    "Li = [1,3,5, [2,3], True]\n",
    "Output = [1,3,5, [3,3], False]"
   ]
  },
  {
   "cell_type": "code",
   "execution_count": 13,
   "id": "3ae7288f",
   "metadata": {},
   "outputs": [
    {
     "name": "stdout",
     "output_type": "stream",
     "text": [
      "[1, 3, 5, [3, 3], False]\n"
     ]
    }
   ],
   "source": [
    "Li = [1,3,5, [2,3], True]\n",
    "\n",
    "Li[3][0]=3\n",
    "Li[4]=False\n",
    "print(Li)\n"
   ]
  },
  {
   "cell_type": "markdown",
   "id": "8f0d0584",
   "metadata": {},
   "source": [
    "13. Find the intersection (common) of two sets.\n",
    "S1 = {1,4,6,8}\n",
    "S2 = {True, 1,2,10}"
   ]
  },
  {
   "cell_type": "code",
   "execution_count": 14,
   "id": "7af437fb",
   "metadata": {},
   "outputs": [
    {
     "name": "stdout",
     "output_type": "stream",
     "text": [
      "{True}\n"
     ]
    }
   ],
   "source": [
    "S1 = {1,4,6,8}\n",
    "S2 = {True, 1,2,10}\n",
    "\n",
    "print(S1.intersection(S2))"
   ]
  },
  {
   "cell_type": "markdown",
   "id": "746cbc52",
   "metadata": {},
   "source": [
    "14. Input a list from the user then Remove duplicates from a list and create a set and find the max\n",
    "number. User_input = [1,9,3,4,5,200,54]\n"
   ]
  },
  {
   "cell_type": "code",
   "execution_count": 15,
   "id": "976327a1",
   "metadata": {},
   "outputs": [
    {
     "name": "stdout",
     "output_type": "stream",
     "text": [
      "[1, 3, 4, 5, 200, 9]\n"
     ]
    }
   ],
   "source": [
    "li=[1,9,3,4,5,200,5]\n",
    "\n",
    "print(list(set(li)))"
   ]
  },
  {
   "cell_type": "code",
   "execution_count": 16,
   "id": "ff7f9b3e",
   "metadata": {},
   "outputs": [
    {
     "name": "stdout",
     "output_type": "stream",
     "text": [
      "[1, 9, 3, 4, 5, 200]\n"
     ]
    }
   ],
   "source": [
    "def remove(duplicate):\n",
    "    finallist=[]\n",
    "    for i in duplicate:\n",
    "        if i not in finallist:\n",
    "            finallist.append(i)\n",
    "    return finallist   \n",
    "\n",
    "duplicate=li\n",
    "print(remove(duplicate))"
   ]
  },
  {
   "cell_type": "code",
   "execution_count": 17,
   "id": "d058530b",
   "metadata": {},
   "outputs": [
    {
     "name": "stdout",
     "output_type": "stream",
     "text": [
      "li= [1, 9, 3, 4, 5, 200]\n"
     ]
    }
   ],
   "source": [
    "newli=[]\n",
    "for i in li:\n",
    "    if i not in newli:\n",
    "        newli.append(i)\n",
    "print(\"li=\", newli)    "
   ]
  },
  {
   "cell_type": "markdown",
   "id": "a1feee28",
   "metadata": {},
   "source": [
    "15. Rename the key of a dictionary.\n",
    "Dict = { \"name\": \"Shakil\", \"age\":27, \"city\": “Berlin”, \"country\": \"Germany\" }\n",
    "Write a program to rename a key ‘country’ to a ‘region’ in the following dictionary.\n"
   ]
  },
  {
   "cell_type": "code",
   "execution_count": 18,
   "id": "7520bfd6",
   "metadata": {},
   "outputs": [
    {
     "name": "stdout",
     "output_type": "stream",
     "text": [
      "{'name': 'Shakil', 'age': 27, 'city': 'Berlin', 'region': 'Germany'}\n"
     ]
    }
   ],
   "source": [
    "Dict = { \"name\": \"Shakil\", \"age\":27, \"city\": \"Berlin\", \"country\": \"Germany\" }\n",
    "\n",
    "Dict[\"region\"]=Dict.pop(\"country\")\n",
    "\n",
    "print(Dict)\n",
    "        "
   ]
  },
  {
   "cell_type": "markdown",
   "id": "c7f6d57c",
   "metadata": {},
   "source": [
    "16. Creating a data frame using the list.\n",
    "num = [10,100,300] (column name is number)\n"
   ]
  },
  {
   "cell_type": "code",
   "execution_count": 19,
   "id": "7efc87a4",
   "metadata": {},
   "outputs": [
    {
     "data": {
      "text/html": [
       "<div>\n",
       "<style scoped>\n",
       "    .dataframe tbody tr th:only-of-type {\n",
       "        vertical-align: middle;\n",
       "    }\n",
       "\n",
       "    .dataframe tbody tr th {\n",
       "        vertical-align: top;\n",
       "    }\n",
       "\n",
       "    .dataframe thead th {\n",
       "        text-align: right;\n",
       "    }\n",
       "</style>\n",
       "<table border=\"1\" class=\"dataframe\">\n",
       "  <thead>\n",
       "    <tr style=\"text-align: right;\">\n",
       "      <th></th>\n",
       "      <th>number</th>\n",
       "    </tr>\n",
       "  </thead>\n",
       "  <tbody>\n",
       "    <tr>\n",
       "      <th>0</th>\n",
       "      <td>10</td>\n",
       "    </tr>\n",
       "    <tr>\n",
       "      <th>1</th>\n",
       "      <td>100</td>\n",
       "    </tr>\n",
       "    <tr>\n",
       "      <th>2</th>\n",
       "      <td>300</td>\n",
       "    </tr>\n",
       "  </tbody>\n",
       "</table>\n",
       "</div>"
      ],
      "text/plain": [
       "   number\n",
       "0      10\n",
       "1     100\n",
       "2     300"
      ]
     },
     "execution_count": 19,
     "metadata": {},
     "output_type": "execute_result"
    }
   ],
   "source": [
    "li=[10,100,300]\n",
    "import pandas as pd\n",
    "df=pd.DataFrame(li,columns=['number'])\n",
    "df"
   ]
  },
  {
   "cell_type": "markdown",
   "id": "b0cb0b8c",
   "metadata": {},
   "source": [
    "17. Change the value of a key in a given dictionary.\n",
    "Write a Python program to change ‘age’ to 28 in the following dictionary.\n",
    "Dict = { \"name\": \"Shakil\", \"age\":27, \"city\": “Berlin”, \"country\": \"Germany\" }"
   ]
  },
  {
   "cell_type": "code",
   "execution_count": 20,
   "id": "86b78b89",
   "metadata": {},
   "outputs": [
    {
     "name": "stdout",
     "output_type": "stream",
     "text": [
      "{'name': 'Shakil', 'age': 28, 'city': 'Berlin', 'country': 'Germany'}\n"
     ]
    }
   ],
   "source": [
    "Dict = { \"name\": \"Shakil\", \"age\":27, \"city\": \"Berlin\", \"country\": \"Germany\" }\n",
    "\n",
    "Dict[\"age\"]=28\n",
    "\n",
    "print(Dict)"
   ]
  },
  {
   "cell_type": "code",
   "execution_count": null,
   "id": "b778de47",
   "metadata": {},
   "outputs": [],
   "source": []
  }
 ],
 "metadata": {
  "kernelspec": {
   "display_name": "Python 3 (ipykernel)",
   "language": "python",
   "name": "python3"
  },
  "language_info": {
   "codemirror_mode": {
    "name": "ipython",
    "version": 3
   },
   "file_extension": ".py",
   "mimetype": "text/x-python",
   "name": "python",
   "nbconvert_exporter": "python",
   "pygments_lexer": "ipython3",
   "version": "3.9.13"
  }
 },
 "nbformat": 4,
 "nbformat_minor": 5
}
